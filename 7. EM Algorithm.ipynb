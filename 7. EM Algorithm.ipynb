{
 "cells": [
  {
   "cell_type": "code",
   "execution_count": 1,
   "id": "a929bcea",
   "metadata": {},
   "outputs": [],
   "source": [
    "import matplotlib.pyplot as plt\n",
    "from sklearn import datasets\n",
    "from sklearn.cluster import KMeans\n",
    "import sklearn.metrics as sm\n",
    "from sklearn import preprocessing\n",
    "from sklearn.mixture import GaussianMixture\n",
    "import pandas as pd\n",
    "import numpy as np"
   ]
  },
  {
   "cell_type": "code",
   "execution_count": 2,
   "id": "96e3906f",
   "metadata": {},
   "outputs": [],
   "source": [
    "#Load predefined data \n",
    "iris = datasets.load_iris()"
   ]
  },
  {
   "cell_type": "code",
   "execution_count": 3,
   "id": "dbb3c40c",
   "metadata": {},
   "outputs": [],
   "source": [
    "x = pd.DataFrame(iris.data)\n",
    "x.columns = ['Sepal_Length','Sepal_Width','Petal_Length','Petal_Width']"
   ]
  },
  {
   "cell_type": "code",
   "execution_count": 4,
   "id": "897ff89e",
   "metadata": {},
   "outputs": [],
   "source": [
    "y = pd.DataFrame(iris.target)\n",
    "y.columns = ['Targets']"
   ]
  },
  {
   "cell_type": "code",
   "execution_count": 5,
   "id": "87170586",
   "metadata": {},
   "outputs": [
    {
     "data": {
      "text/plain": [
       "KMeans(n_clusters=3)"
      ]
     },
     "execution_count": 5,
     "metadata": {},
     "output_type": "execute_result"
    }
   ],
   "source": [
    "#KMeans for grouping of data with cluster value 3 as 3 colors are to taken in the graph\n",
    "model = KMeans(n_clusters = 3)\n",
    "#For making the data fit\n",
    "model.fit(x)"
   ]
  },
  {
   "cell_type": "code",
   "execution_count": 6,
   "id": "15fae200",
   "metadata": {},
   "outputs": [
    {
     "name": "stdout",
     "output_type": "stream",
     "text": [
      "Accuracy of k-means =  0.8933333333333333\n"
     ]
    }
   ],
   "source": [
    "#Calculating the accuracy of KMeans\n",
    "score1 = sm.accuracy_score(y, model.labels_)\n",
    "print('Accuracy of k-means = ',score1)"
   ]
  },
  {
   "cell_type": "code",
   "execution_count": 7,
   "id": "0f705ada",
   "metadata": {},
   "outputs": [
    {
     "data": {
      "text/plain": [
       "<Figure size 504x504 with 0 Axes>"
      ]
     },
     "metadata": {},
     "output_type": "display_data"
    }
   ],
   "source": [
    "#Plotting the graph\n",
    "plt.figure(figsize = (7,7))\n",
    "colormap = np.array(['red','lime','black'])"
   ]
  },
  {
   "cell_type": "code",
   "execution_count": 8,
   "id": "f582853d",
   "metadata": {},
   "outputs": [
    {
     "data": {
      "text/plain": [
       "Text(0.5, 1.0, 'K Mean Classification')"
      ]
     },
     "execution_count": 8,
     "metadata": {},
     "output_type": "execute_result"
    },
    {
     "data": {
      "image/png": "[encoded data removed]",
      "text/plain": [
       "<Figure size 432x288 with 1 Axes>"
      ]
     },
     "metadata": {
      "needs_background": "light"
     },
     "output_type": "display_data"
    }
   ],
   "source": [
    "#Plot multilple graph\n",
    "plt.subplot(1,2,1)\n",
    "plt.scatter(x.Petal_Length, x.Petal_Width, c = colormap[model.labels_], s = 40)\n",
    "plt.title('K Mean Classification')"
   ]
  },
  {
   "cell_type": "code",
   "execution_count": 9,
   "id": "f821e4cf",
   "metadata": {},
   "outputs": [],
   "source": [
    "#Used to get mean value from graph\n",
    "scaler = preprocessing.StandardScaler()\n",
    "scaler.fit(x)\n",
    "#x after capturing the mean value\n",
    "xsa = scaler.transform(x)\n",
    "xs = pd.DataFrame(xsa, columns = x.columns)"
   ]
  },
  {
   "cell_type": "code",
   "execution_count": 10,
   "id": "94d26d8c",
   "metadata": {},
   "outputs": [],
   "source": [
    "#gmm is Gaussian Mixture Model\n",
    "gmm = GaussianMixture(n_components = 3)\n",
    "gmm.fit(xs)\n",
    "y_cluster_gmm = gmm.predict(xs)"
   ]
  },
  {
   "cell_type": "code",
   "execution_count": 11,
   "id": "dbb95637",
   "metadata": {},
   "outputs": [
    {
     "name": "stdout",
     "output_type": "stream",
     "text": [
      "Accuracy of EM =  0.3333333333333333\n"
     ]
    }
   ],
   "source": [
    "#Calcuting accuracy of EM\n",
    "score2 = sm.accuracy_score(y, y_cluster_gmm)\n",
    "print('Accuracy of EM = ',score2)"
   ]
  },
  {
   "cell_type": "code",
   "execution_count": 12,
   "id": "67a0480b",
   "metadata": {},
   "outputs": [
    {
     "data": {
      "text/plain": [
       "Text(0.5, 1.0, 'EM Classification')"
      ]
     },
     "execution_count": 12,
     "metadata": {},
     "output_type": "execute_result"
    },
    {
     "data": {
      "image/png": "[encoded data removed]",
      "text/plain": [
       "<Figure size 432x288 with 1 Axes>"
      ]
     },
     "metadata": {
      "needs_background": "light"
     },
     "output_type": "display_data"
    }
   ],
   "source": [
    "plt.subplot(1,2,2)\n",
    "plt.scatter(x.Petal_Length, x.Petal_Width, c = colormap[y_cluster_gmm], s = 40)\n",
    "plt.title('EM Classification')"
   ]
  }
 ],
 "metadata": {
  "kernelspec": {
   "display_name": "Python 3",
   "language": "python",
   "name": "python3"
  },
  "language_info": {
   "codemirror_mode": {
    "name": "ipython",
    "version": 3
   },
   "file_extension": ".py",
   "mimetype": "text/x-python",
   "name": "python",
   "nbconvert_exporter": "python",
   "pygments_lexer": "ipython3",
   "version": "3.8.8"
  }
 },
 "nbformat": 4,
 "nbformat_minor": 5
}
