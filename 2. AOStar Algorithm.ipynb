{
 "cells": [
  {
   "cell_type": "code",
   "execution_count": 1,
   "id": "1342e573",
   "metadata": {},
   "outputs": [
    {
     "name": "stdout",
     "output_type": "stream",
     "text": [
      "Requirement already satisfied: heuristicsearch in c:\\users\\ibmar\\anaconda3\\lib\\site-packages (0.1.1)\n",
      "Note: you may need to restart the kernel to use updated packages.\n"
     ]
    }
   ],
   "source": [
    "pip install heuristicsearch"
   ]
  },
  {
   "cell_type": "code",
   "execution_count": 2,
   "id": "41ff7cc9",
   "metadata": {},
   "outputs": [],
   "source": [
    "from heuristicsearch.ao_star import AOStar"
   ]
  },
  {
   "cell_type": "code",
   "execution_count": 3,
   "id": "05cc42fb",
   "metadata": {},
   "outputs": [],
   "source": [
    "heuristic = {'A': 1, 'B': 6, 'C': 12, 'D': 10, 'E': 4, 'F': 4, 'G': 5, 'H': 7}\n",
    "adjacency_list = {\n",
    "    'A' : [[('B', 1), ('C', 1)], [('D', 1)]],\n",
    "    'B' : [[('G', 1)], [('H',1)]],\n",
    "    'C' : [[('J', 1)]],\n",
    "    'D' : [[('E', 1), ('F', 1)]],\n",
    "    'G' : [[('I', 1)]]\n",
    "}"
   ]
  },
  {
   "cell_type": "code",
   "execution_count": 4,
   "id": "549b9e97",
   "metadata": {},
   "outputs": [
    {
     "name": "stdout",
     "output_type": "stream",
     "text": [
      "Graph - 1\n",
      "PROCESSING NODE : A\n",
      "-----------------------------------------------------------------------------------------\n",
      "11 ['D']\n",
      "\n",
      "PROCESSING NODE : D\n",
      "-----------------------------------------------------------------------------------------\n",
      "10 ['E', 'F']\n",
      "\n",
      "PROCESSING NODE : A\n",
      "-----------------------------------------------------------------------------------------\n",
      "11 ['D']\n",
      "\n",
      "PROCESSING NODE : E\n",
      "-----------------------------------------------------------------------------------------\n",
      "0 []\n",
      "\n",
      "PROCESSING NODE : D\n",
      "-----------------------------------------------------------------------------------------\n",
      "6 ['E', 'F']\n",
      "\n",
      "PROCESSING NODE : A\n",
      "-----------------------------------------------------------------------------------------\n",
      "7 ['D']\n",
      "\n",
      "PROCESSING NODE : F\n",
      "-----------------------------------------------------------------------------------------\n",
      "0 []\n",
      "\n",
      "PROCESSING NODE : D\n",
      "-----------------------------------------------------------------------------------------\n",
      "2 ['E', 'F']\n",
      "\n",
      "PROCESSING NODE : A\n",
      "-----------------------------------------------------------------------------------------\n",
      "3 ['D']\n",
      "\n",
      "FOR THE SOLUTION, TRAVERSE THE GRAPH FROM THE START NODE: A\n",
      "------------------------------------------------------------\n",
      "{'E': [], 'F': [], 'D': ['E', 'F'], 'A': ['D']}\n",
      "------------------------------------------------------------\n"
     ]
    }
   ],
   "source": [
    "print(\"Graph - 1\")\n",
    "graph = AOStar(adjacency_list, heuristic, 'A')\n",
    "graph.applyAOStar()"
   ]
  }
 ],
 "metadata": {
  "kernelspec": {
   "display_name": "Python 3",
   "language": "python",
   "name": "python3"
  },
  "language_info": {
   "codemirror_mode": {
    "name": "ipython",
    "version": 3
   },
   "file_extension": ".py",
   "mimetype": "text/x-python",
   "name": "python",
   "nbconvert_exporter": "python",
   "pygments_lexer": "ipython3",
   "version": "3.8.8"
  }
 },
 "nbformat": 4,
 "nbformat_minor": 5
}
