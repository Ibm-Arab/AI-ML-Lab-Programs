{
 "cells": [
  {
   "cell_type": "code",
   "execution_count": 1,
   "id": "dffc2e79",
   "metadata": {},
   "outputs": [],
   "source": [
    "import matplotlib.pyplot as plt\n",
    "from scipy.interpolate import interp1d\n",
    "import statsmodels.api as smapi"
   ]
  },
  {
   "cell_type": "code",
   "execution_count": 2,
   "id": "ffd358ae",
   "metadata": {},
   "outputs": [],
   "source": [
    "x = [i/5.0 for i in range(30)]\n",
    "y = [\n",
    "    1,2,1,\n",
    "    2,1,1,\n",
    "    3,4,5,\n",
    "    4,5,6,\n",
    "    5,6,7,\n",
    "    8,9,10,\n",
    "    11,11,12,\n",
    "    11,11,10,\n",
    "    12,11,11,\n",
    "    10,9,13\n",
    "]"
   ]
  },
  {
   "cell_type": "code",
   "execution_count": 3,
   "id": "b1e4c672",
   "metadata": {},
   "outputs": [],
   "source": [
    "lowess = smapi.nonparametric.lowess(y,x)\n",
    "lowess_x = list(zip(*lowess))[0]\n",
    "lowess_y = list(zip(*lowess))[1]"
   ]
  },
  {
   "cell_type": "code",
   "execution_count": 4,
   "id": "16bdb665",
   "metadata": {},
   "outputs": [],
   "source": [
    "f = interp1d(lowess_x, lowess_y, bounds_error=False)\n",
    "xnew = [i/10.0 for i in range(100)]\n",
    "ynew = f(xnew)"
   ]
  },
  {
   "cell_type": "code",
   "execution_count": 5,
   "id": "cc8ba1fa",
   "metadata": {},
   "outputs": [
    {
     "data": {
      "image/png": "[encoded data removed]",
      "text/plain": [
       "<Figure size 432x288 with 1 Axes>"
      ]
     },
     "metadata": {
      "needs_background": "light"
     },
     "output_type": "display_data"
    }
   ],
   "source": [
    "plt.plot(x, y, 'o')\n",
    "plt.plot(lowess_x, lowess_y, '+')\n",
    "plt.plot(xnew, ynew, '-')\n",
    "plt.show()"
   ]
  }
 ],
 "metadata": {
  "kernelspec": {
   "display_name": "Python 3",
   "language": "python",
   "name": "python3"
  },
  "language_info": {
   "codemirror_mode": {
    "name": "ipython",
    "version": 3
   },
   "file_extension": ".py",
   "mimetype": "text/x-python",
   "name": "python",
   "nbconvert_exporter": "python",
   "pygments_lexer": "ipython3",
   "version": "3.8.8"
  }
 },
 "nbformat": 4,
 "nbformat_minor": 5
}
