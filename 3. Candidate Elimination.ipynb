{
 "cells": [
  {
   "cell_type": "code",
   "execution_count": 1,
   "id": "f36a231d",
   "metadata": {},
   "outputs": [],
   "source": [
    "import pandas as pd"
   ]
  },
  {
   "cell_type": "code",
   "execution_count": 2,
   "id": "400e2f4c",
   "metadata": {},
   "outputs": [
    {
     "name": "stdout",
     "output_type": "stream",
     "text": [
      "  Outlook  Temp Humidity    Wind Play Tennis\n",
      "0   Sunny  Warm   Normal  Strong         Yes\n",
      "1   Sunny  Warm     High  Strong         Yes\n",
      "2   Rainy  Cold     High  Strong          No\n",
      "3   Sunny  Warm     High  Strong         Yes\n"
     ]
    }
   ],
   "source": [
    "csvFile = pd.DataFrame({\n",
    "    'Outlook': ['Sunny','Sunny','Rainy','Sunny'],\n",
    "    'Temp': ['Warm', 'Warm', 'Cold','Warm'],\n",
    "    'Humidity': ['Normal', 'High', 'High', 'High'],\n",
    "    'Wind': ['Strong', 'Strong', 'Strong', 'Strong'],\n",
    "    'Play Tennis': ['Yes', 'Yes', 'No', 'Yes']\n",
    "})\n",
    "csvFile.to_csv(index = False)\n",
    "print(csvFile)"
   ]
  },
  {
   "cell_type": "code",
   "execution_count": 3,
   "id": "72e91b42",
   "metadata": {},
   "outputs": [],
   "source": [
    "target_value = csvFile.values\n",
    "specific_hypothesis = target_value[0]\n",
    "general_hypothesis = ['?', '?', '?', '?', '?']\n",
    "null_array = ['?', '?', '?', '?', '?']\n",
    "temp_array = []\n",
    "count = 1"
   ]
  },
  {
   "cell_type": "code",
   "execution_count": 4,
   "id": "425c0a58",
   "metadata": {},
   "outputs": [
    {
     "name": "stdout",
     "output_type": "stream",
     "text": [
      "Step  1\n",
      "['Sunny' 'Warm' 'Normal' 'Strong' 'Yes']\n",
      "['?', '?', '?', '?', '?']\n",
      "Step  2\n",
      "Specific Hypothesis : ['Sunny' 'Warm' '?' 'Strong' 'Yes']\n",
      "General Hypothesis : ['?', '?', '?', '?', '?']\n",
      "Step  3\n",
      "Specific Hypothesis : ['Sunny' 'Warm' '?' 'Strong' 'Yes']\n",
      "General Hypothesis : [['Rainy', '?', '?', '?', '?'], ['?', 'Cold', '?', '?', '?']]\n",
      "Step  4\n",
      "Specific Hypothesis : ['Sunny' 'Warm' '?' 'Strong' 'Yes']\n",
      "General Hypothesis : [['Rainy', '?', '?', '?', '?'], ['?', 'Cold', '?', '?', '?']]\n"
     ]
    }
   ],
   "source": [
    "print('Step ',count)\n",
    "print(specific_hypothesis)\n",
    "print(general_hypothesis)\n",
    "for i in range(len(target_value)):\n",
    "    if target_value[i][4] == 'Yes':\n",
    "        for j in range(5):\n",
    "            if target_value[i][j] != specific_hypothesis[j]:\n",
    "                specific_hypothesis[j] = '?'\n",
    "                count = count + 1\n",
    "                print('Step ',count)\n",
    "                print('Specific Hypothesis :',specific_hypothesis)\n",
    "                print('General Hypothesis :',general_hypothesis)\n",
    "    else:\n",
    "        count = count + 1\n",
    "        print('Step ',count)\n",
    "        print('Specific Hypothesis :',specific_hypothesis)\n",
    "        for j in range(4):\n",
    "            if target_value[i][j] != specific_hypothesis[j] and specific_hypothesis[j] != '?':\n",
    "                temp_array = null_array\n",
    "                temp_array[j] = target_value[i][j]\n",
    "                null_array = ['?', '?', '?', '?', '?']\n",
    "                general_hypothesis.append(temp_array)\n",
    "        for pop in range(5):\n",
    "            general_hypothesis.pop(0)\n",
    "        print('General Hypothesis :',general_hypothesis)"
   ]
  }
 ],
 "metadata": {
  "kernelspec": {
   "display_name": "Python 3",
   "language": "python",
   "name": "python3"
  },
  "language_info": {
   "codemirror_mode": {
    "name": "ipython",
    "version": 3
   },
   "file_extension": ".py",
   "mimetype": "text/x-python",
   "name": "python",
   "nbconvert_exporter": "python",
   "pygments_lexer": "ipython3",
   "version": "3.8.8"
  }
 },
 "nbformat": 4,
 "nbformat_minor": 5
}
