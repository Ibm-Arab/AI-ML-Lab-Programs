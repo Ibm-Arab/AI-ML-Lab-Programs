{
 "cells": [
  {
   "cell_type": "code",
   "execution_count": 1,
   "id": "b65d762f",
   "metadata": {},
   "outputs": [],
   "source": [
    "import pandas as pd\n",
    "from sklearn.preprocessing import LabelEncoder\n",
    "from sklearn.model_selection import train_test_split\n",
    "from sklearn.naive_bayes import GaussianNB\n",
    "import sklearn.metrics as sm"
   ]
  },
  {
   "cell_type": "code",
   "execution_count": 2,
   "id": "316d1b7e",
   "metadata": {},
   "outputs": [
    {
     "name": "stdout",
     "output_type": "stream",
     "text": [
      "  Outlook  Temp Humidity    Wind Play Tennis\n",
      "0   Sunny  Warm   Normal  Strong         Yes\n",
      "1   Sunny  Warm     High  Strong         Yes\n",
      "2   Rainy  Cold     High  Strong          No\n",
      "3   Sunny  Warm     High  Strong         Yes\n"
     ]
    }
   ],
   "source": [
    "PlayTennis = pd.DataFrame({\n",
    "    'Outlook': ['Sunny','Sunny','Rainy','Sunny'],\n",
    "    'Temp': ['Warm', 'Warm', 'Cold','Warm'],\n",
    "    'Humidity': ['Normal', 'High', 'High', 'High'],\n",
    "    'Wind': ['Strong', 'Strong', 'Strong', 'Strong'],\n",
    "    'Play Tennis': ['Yes', 'Yes', 'No', 'Yes']\n",
    "})\n",
    "PlayTennis.to_csv(index = False)\n",
    "print(PlayTennis)"
   ]
  },
  {
   "cell_type": "code",
   "execution_count": 3,
   "id": "f7ed0dfc",
   "metadata": {},
   "outputs": [
    {
     "name": "stdout",
     "output_type": "stream",
     "text": [
      "The encoded dataset is \n",
      "    Outlook  Temp  Humidity  Wind  Play Tennis\n",
      "0        1     1         1     0            1\n",
      "1        1     1         0     0            1\n",
      "2        0     0         0     0            0\n",
      "3        1     1         0     0            1\n"
     ]
    }
   ],
   "source": [
    "Le = LabelEncoder()\n",
    "PlayTennis['Outlook'] = Le.fit_transform(PlayTennis['Outlook'])\n",
    "PlayTennis['Temp'] = Le.fit_transform(PlayTennis['Temp'])\n",
    "PlayTennis['Humidity'] = Le.fit_transform(PlayTennis['Humidity'])\n",
    "PlayTennis['Wind'] = Le.fit_transform(PlayTennis['Wind'])\n",
    "PlayTennis['Play Tennis'] = Le.fit_transform(PlayTennis['Play Tennis'])\n",
    "print('The encoded dataset is \\n', PlayTennis)"
   ]
  },
  {
   "cell_type": "code",
   "execution_count": 4,
   "id": "130f8120",
   "metadata": {},
   "outputs": [],
   "source": [
    "x = PlayTennis.drop(['Play Tennis'], axis = 1)\n",
    "y = PlayTennis['Play Tennis']\n",
    "x_train, x_test, y_train, y_test = train_test_split(x, y, test_size = 0.20)"
   ]
  },
  {
   "cell_type": "code",
   "execution_count": 5,
   "id": "65cfeac1",
   "metadata": {},
   "outputs": [
    {
     "name": "stdout",
     "output_type": "stream",
     "text": [
      "\n",
      " x-train : \n",
      "    Outlook  Temp  Humidity  Wind\n",
      "1        1     1         0     0\n",
      "3        1     1         0     0\n",
      "2        0     0         0     0\n",
      "\n",
      " x-test : \n",
      "    Outlook  Temp  Humidity  Wind\n",
      "0        1     1         1     0\n",
      "\n",
      " y-train : \n",
      " 1    1\n",
      "3    1\n",
      "2    0\n",
      "Name: Play Tennis, dtype: int32\n",
      "\n",
      " y-test : \n",
      " 0    1\n",
      "Name: Play Tennis, dtype: int32\n"
     ]
    }
   ],
   "source": [
    "print('\\n x-train : \\n', x_train)\n",
    "print('\\n x-test : \\n', x_test)\n",
    "print('\\n y-train : \\n', y_train)\n",
    "print('\\n y-test : \\n', y_test)"
   ]
  },
  {
   "cell_type": "code",
   "execution_count": 6,
   "id": "244a430e",
   "metadata": {},
   "outputs": [
    {
     "name": "stdout",
     "output_type": "stream",
     "text": [
      "\n",
      " Accuracy is : 1.0\n"
     ]
    }
   ],
   "source": [
    "classifier = GaussianNB()\n",
    "classifier.fit(x_train, y_train)\n",
    "classifier_pred = classifier.predict(x_test)\n",
    "accuracy = sm.accuracy_score(classifier_pred, y_test)\n",
    "print('\\n Accuracy is :', accuracy)"
   ]
  }
 ],
 "metadata": {
  "kernelspec": {
   "display_name": "Python 3",
   "language": "python",
   "name": "python3"
  },
  "language_info": {
   "codemirror_mode": {
    "name": "ipython",
    "version": 3
   },
   "file_extension": ".py",
   "mimetype": "text/x-python",
   "name": "python",
   "nbconvert_exporter": "python",
   "pygments_lexer": "ipython3",
   "version": "3.8.8"
  }
 },
 "nbformat": 4,
 "nbformat_minor": 5
}
