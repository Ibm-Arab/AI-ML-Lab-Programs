{
 "cells": [
  {
   "cell_type": "code",
   "execution_count": 1,
   "id": "970253fe",
   "metadata": {},
   "outputs": [
    {
     "name": "stdout",
     "output_type": "stream",
     "text": [
      "Requirement already satisfied: heuristicsearch in c:\\users\\ibmar\\anaconda3\\lib\\site-packages (0.1.1)\n",
      "Note: you may need to restart the kernel to use updated packages.\n"
     ]
    }
   ],
   "source": [
    "pip install heuristicsearch"
   ]
  },
  {
   "cell_type": "code",
   "execution_count": 2,
   "id": "62376fd9",
   "metadata": {},
   "outputs": [],
   "source": [
    "from heuristicsearch.a_star_search import AStar"
   ]
  },
  {
   "cell_type": "code",
   "execution_count": 3,
   "id": "77522277",
   "metadata": {},
   "outputs": [],
   "source": [
    "heuristics = {'A':1, 'B':1, 'C':1, 'D':1}\n",
    "adjacency_list = {\n",
    "    'A' : [('B', 1), ('C', 3), ('D', 7)],\n",
    "    'B' : [('D', 5)],\n",
    "    'C' : [('D', 12)]\n",
    "}"
   ]
  },
  {
   "cell_type": "code",
   "execution_count": 4,
   "id": "c7daed6d",
   "metadata": {},
   "outputs": [
    {
     "name": "stdout",
     "output_type": "stream",
     "text": [
      "Path\n",
      "A -> B -> D\n",
      "Cost\n",
      "0 -> 1 -> 6\n"
     ]
    }
   ],
   "source": [
    "graph = AStar(adjacency_list, heuristics)\n",
    "graph.apply_a_star(start = 'A', stop = 'D')"
   ]
  }
 ],
 "metadata": {
  "kernelspec": {
   "display_name": "Python 3",
   "language": "python",
   "name": "python3"
  },
  "language_info": {
   "codemirror_mode": {
    "name": "ipython",
    "version": 3
   },
   "file_extension": ".py",
   "mimetype": "text/x-python",
   "name": "python",
   "nbconvert_exporter": "python",
   "pygments_lexer": "ipython3",
   "version": "3.8.8"
  }
 },
 "nbformat": 4,
 "nbformat_minor": 5
}
